{
 "cells": [
  {
   "cell_type": "code",
   "execution_count": 2,
   "id": "47316a8e",
   "metadata": {},
   "outputs": [],
   "source": [
    "import pandas as pd\n",
    "import numpy as np\n",
    "import matplotlib as mpl\n",
    "import matplotlib.pyplot as plt\n",
    "%matplotlib inline \n",
    "import seaborn as sns\n",
    "sns.set_style('darkgrid')"
   ]
  },
  {
   "cell_type": "code",
   "execution_count": 3,
   "id": "2eccaa7f",
   "metadata": {
    "scrolled": true,
    "tags": []
   },
   "outputs": [
    {
     "data": {
      "text/html": [
       "<div>\n",
       "<style scoped>\n",
       "    .dataframe tbody tr th:only-of-type {\n",
       "        vertical-align: middle;\n",
       "    }\n",
       "\n",
       "    .dataframe tbody tr th {\n",
       "        vertical-align: top;\n",
       "    }\n",
       "\n",
       "    .dataframe thead th {\n",
       "        text-align: right;\n",
       "    }\n",
       "</style>\n",
       "<table border=\"1\" class=\"dataframe\">\n",
       "  <thead>\n",
       "    <tr style=\"text-align: right;\">\n",
       "      <th></th>\n",
       "      <th>Area Code</th>\n",
       "      <th>State</th>\n",
       "      <th>Market</th>\n",
       "      <th>Market Size</th>\n",
       "      <th>Profit</th>\n",
       "      <th>Margin</th>\n",
       "      <th>Sales</th>\n",
       "      <th>COGS</th>\n",
       "      <th>Total Expenses</th>\n",
       "      <th>Marketing</th>\n",
       "      <th>Inventory</th>\n",
       "      <th>Budget Profit</th>\n",
       "      <th>Budget COGS</th>\n",
       "      <th>Budget Margin</th>\n",
       "      <th>Budget Sales</th>\n",
       "      <th>ProductId</th>\n",
       "      <th>Date</th>\n",
       "      <th>Product Type</th>\n",
       "      <th>Product</th>\n",
       "      <th>Type</th>\n",
       "    </tr>\n",
       "  </thead>\n",
       "  <tbody>\n",
       "    <tr>\n",
       "      <th>0</th>\n",
       "      <td>203</td>\n",
       "      <td>Connecticut</td>\n",
       "      <td>East</td>\n",
       "      <td>Small Market</td>\n",
       "      <td>107</td>\n",
       "      <td>176</td>\n",
       "      <td>292</td>\n",
       "      <td>116</td>\n",
       "      <td>69</td>\n",
       "      <td>38</td>\n",
       "      <td>962</td>\n",
       "      <td>110</td>\n",
       "      <td>110</td>\n",
       "      <td>160</td>\n",
       "      <td>270</td>\n",
       "      <td>2</td>\n",
       "      <td>4/1/2010 0:00</td>\n",
       "      <td>Coffee</td>\n",
       "      <td>Columbian</td>\n",
       "      <td>Regular</td>\n",
       "    </tr>\n",
       "    <tr>\n",
       "      <th>1</th>\n",
       "      <td>203</td>\n",
       "      <td>Connecticut</td>\n",
       "      <td>East</td>\n",
       "      <td>Small Market</td>\n",
       "      <td>75</td>\n",
       "      <td>135</td>\n",
       "      <td>225</td>\n",
       "      <td>90</td>\n",
       "      <td>60</td>\n",
       "      <td>29</td>\n",
       "      <td>1148</td>\n",
       "      <td>90</td>\n",
       "      <td>80</td>\n",
       "      <td>130</td>\n",
       "      <td>210</td>\n",
       "      <td>2</td>\n",
       "      <td>7/1/2010 0:00</td>\n",
       "      <td>Coffee</td>\n",
       "      <td>Columbian</td>\n",
       "      <td>Regular</td>\n",
       "    </tr>\n",
       "    <tr>\n",
       "      <th>2</th>\n",
       "      <td>203</td>\n",
       "      <td>Connecticut</td>\n",
       "      <td>East</td>\n",
       "      <td>Small Market</td>\n",
       "      <td>122</td>\n",
       "      <td>195</td>\n",
       "      <td>325</td>\n",
       "      <td>130</td>\n",
       "      <td>73</td>\n",
       "      <td>42</td>\n",
       "      <td>1134</td>\n",
       "      <td>130</td>\n",
       "      <td>110</td>\n",
       "      <td>180</td>\n",
       "      <td>290</td>\n",
       "      <td>2</td>\n",
       "      <td>11/1/2010 0:00</td>\n",
       "      <td>Coffee</td>\n",
       "      <td>Columbian</td>\n",
       "      <td>Regular</td>\n",
       "    </tr>\n",
       "    <tr>\n",
       "      <th>3</th>\n",
       "      <td>203</td>\n",
       "      <td>Connecticut</td>\n",
       "      <td>East</td>\n",
       "      <td>Small Market</td>\n",
       "      <td>105</td>\n",
       "      <td>174</td>\n",
       "      <td>289</td>\n",
       "      <td>115</td>\n",
       "      <td>69</td>\n",
       "      <td>37</td>\n",
       "      <td>1166</td>\n",
       "      <td>110</td>\n",
       "      <td>100</td>\n",
       "      <td>160</td>\n",
       "      <td>260</td>\n",
       "      <td>2</td>\n",
       "      <td>12/1/2010 0:00</td>\n",
       "      <td>Coffee</td>\n",
       "      <td>Columbian</td>\n",
       "      <td>Regular</td>\n",
       "    </tr>\n",
       "    <tr>\n",
       "      <th>4</th>\n",
       "      <td>203</td>\n",
       "      <td>Connecticut</td>\n",
       "      <td>East</td>\n",
       "      <td>Small Market</td>\n",
       "      <td>104</td>\n",
       "      <td>135</td>\n",
       "      <td>223</td>\n",
       "      <td>90</td>\n",
       "      <td>56</td>\n",
       "      <td>29</td>\n",
       "      <td>1148</td>\n",
       "      <td>90</td>\n",
       "      <td>80</td>\n",
       "      <td>130</td>\n",
       "      <td>210</td>\n",
       "      <td>2</td>\n",
       "      <td>7/1/2011 0:00</td>\n",
       "      <td>Coffee</td>\n",
       "      <td>Columbian</td>\n",
       "      <td>Regular</td>\n",
       "    </tr>\n",
       "    <tr>\n",
       "      <th>...</th>\n",
       "      <td>...</td>\n",
       "      <td>...</td>\n",
       "      <td>...</td>\n",
       "      <td>...</td>\n",
       "      <td>...</td>\n",
       "      <td>...</td>\n",
       "      <td>...</td>\n",
       "      <td>...</td>\n",
       "      <td>...</td>\n",
       "      <td>...</td>\n",
       "      <td>...</td>\n",
       "      <td>...</td>\n",
       "      <td>...</td>\n",
       "      <td>...</td>\n",
       "      <td>...</td>\n",
       "      <td>...</td>\n",
       "      <td>...</td>\n",
       "      <td>...</td>\n",
       "      <td>...</td>\n",
       "      <td>...</td>\n",
       "    </tr>\n",
       "    <tr>\n",
       "      <th>4243</th>\n",
       "      <td>985</td>\n",
       "      <td>Louisiana</td>\n",
       "      <td>South</td>\n",
       "      <td>Small Market</td>\n",
       "      <td>-6</td>\n",
       "      <td>66</td>\n",
       "      <td>113</td>\n",
       "      <td>47</td>\n",
       "      <td>72</td>\n",
       "      <td>42</td>\n",
       "      <td>-395</td>\n",
       "      <td>0</td>\n",
       "      <td>40</td>\n",
       "      <td>50</td>\n",
       "      <td>90</td>\n",
       "      <td>4</td>\n",
       "      <td>7/1/2010 0:00</td>\n",
       "      <td>Espresso</td>\n",
       "      <td>Caffe Latte</td>\n",
       "      <td>Regular</td>\n",
       "    </tr>\n",
       "    <tr>\n",
       "      <th>4244</th>\n",
       "      <td>985</td>\n",
       "      <td>Louisiana</td>\n",
       "      <td>South</td>\n",
       "      <td>Small Market</td>\n",
       "      <td>-7</td>\n",
       "      <td>61</td>\n",
       "      <td>105</td>\n",
       "      <td>44</td>\n",
       "      <td>68</td>\n",
       "      <td>39</td>\n",
       "      <td>-508</td>\n",
       "      <td>10</td>\n",
       "      <td>30</td>\n",
       "      <td>60</td>\n",
       "      <td>90</td>\n",
       "      <td>4</td>\n",
       "      <td>8/1/2010 0:00</td>\n",
       "      <td>Espresso</td>\n",
       "      <td>Caffe Latte</td>\n",
       "      <td>Regular</td>\n",
       "    </tr>\n",
       "    <tr>\n",
       "      <th>4245</th>\n",
       "      <td>985</td>\n",
       "      <td>Louisiana</td>\n",
       "      <td>South</td>\n",
       "      <td>Small Market</td>\n",
       "      <td>-3</td>\n",
       "      <td>76</td>\n",
       "      <td>131</td>\n",
       "      <td>55</td>\n",
       "      <td>79</td>\n",
       "      <td>49</td>\n",
       "      <td>-1053</td>\n",
       "      <td>0</td>\n",
       "      <td>40</td>\n",
       "      <td>60</td>\n",
       "      <td>100</td>\n",
       "      <td>4</td>\n",
       "      <td>12/1/2010 0:00</td>\n",
       "      <td>Espresso</td>\n",
       "      <td>Caffe Latte</td>\n",
       "      <td>Regular</td>\n",
       "    </tr>\n",
       "    <tr>\n",
       "      <th>4246</th>\n",
       "      <td>985</td>\n",
       "      <td>Louisiana</td>\n",
       "      <td>South</td>\n",
       "      <td>Small Market</td>\n",
       "      <td>1</td>\n",
       "      <td>87</td>\n",
       "      <td>160</td>\n",
       "      <td>63</td>\n",
       "      <td>86</td>\n",
       "      <td>57</td>\n",
       "      <td>37</td>\n",
       "      <td>0</td>\n",
       "      <td>50</td>\n",
       "      <td>70</td>\n",
       "      <td>120</td>\n",
       "      <td>4</td>\n",
       "      <td>4/1/2011 0:00</td>\n",
       "      <td>Espresso</td>\n",
       "      <td>Caffe Latte</td>\n",
       "      <td>Regular</td>\n",
       "    </tr>\n",
       "    <tr>\n",
       "      <th>4247</th>\n",
       "      <td>985</td>\n",
       "      <td>Louisiana</td>\n",
       "      <td>South</td>\n",
       "      <td>Small Market</td>\n",
       "      <td>4</td>\n",
       "      <td>90</td>\n",
       "      <td>153</td>\n",
       "      <td>64</td>\n",
       "      <td>81</td>\n",
       "      <td>58</td>\n",
       "      <td>-113</td>\n",
       "      <td>10</td>\n",
       "      <td>50</td>\n",
       "      <td>80</td>\n",
       "      <td>130</td>\n",
       "      <td>4</td>\n",
       "      <td>5/1/2011 0:00</td>\n",
       "      <td>Espresso</td>\n",
       "      <td>Caffe Latte</td>\n",
       "      <td>Regular</td>\n",
       "    </tr>\n",
       "  </tbody>\n",
       "</table>\n",
       "<p>4248 rows × 20 columns</p>\n",
       "</div>"
      ],
      "text/plain": [
       "      Area Code        State Market   Market Size  Profit  Margin  Sales  \\\n",
       "0           203  Connecticut   East  Small Market     107     176    292   \n",
       "1           203  Connecticut   East  Small Market      75     135    225   \n",
       "2           203  Connecticut   East  Small Market     122     195    325   \n",
       "3           203  Connecticut   East  Small Market     105     174    289   \n",
       "4           203  Connecticut   East  Small Market     104     135    223   \n",
       "...         ...          ...    ...           ...     ...     ...    ...   \n",
       "4243        985    Louisiana  South  Small Market      -6      66    113   \n",
       "4244        985    Louisiana  South  Small Market      -7      61    105   \n",
       "4245        985    Louisiana  South  Small Market      -3      76    131   \n",
       "4246        985    Louisiana  South  Small Market       1      87    160   \n",
       "4247        985    Louisiana  South  Small Market       4      90    153   \n",
       "\n",
       "      COGS  Total Expenses  Marketing  Inventory  Budget Profit  Budget COGS  \\\n",
       "0      116              69         38        962            110          110   \n",
       "1       90              60         29       1148             90           80   \n",
       "2      130              73         42       1134            130          110   \n",
       "3      115              69         37       1166            110          100   \n",
       "4       90              56         29       1148             90           80   \n",
       "...    ...             ...        ...        ...            ...          ...   \n",
       "4243    47              72         42       -395              0           40   \n",
       "4244    44              68         39       -508             10           30   \n",
       "4245    55              79         49      -1053              0           40   \n",
       "4246    63              86         57         37              0           50   \n",
       "4247    64              81         58       -113             10           50   \n",
       "\n",
       "      Budget Margin  Budget Sales  ProductId            Date Product Type  \\\n",
       "0               160           270          2   4/1/2010 0:00       Coffee   \n",
       "1               130           210          2   7/1/2010 0:00       Coffee   \n",
       "2               180           290          2  11/1/2010 0:00       Coffee   \n",
       "3               160           260          2  12/1/2010 0:00       Coffee   \n",
       "4               130           210          2   7/1/2011 0:00       Coffee   \n",
       "...             ...           ...        ...             ...          ...   \n",
       "4243             50            90          4   7/1/2010 0:00     Espresso   \n",
       "4244             60            90          4   8/1/2010 0:00     Espresso   \n",
       "4245             60           100          4  12/1/2010 0:00     Espresso   \n",
       "4246             70           120          4   4/1/2011 0:00     Espresso   \n",
       "4247             80           130          4   5/1/2011 0:00     Espresso   \n",
       "\n",
       "          Product     Type  \n",
       "0       Columbian  Regular  \n",
       "1       Columbian  Regular  \n",
       "2       Columbian  Regular  \n",
       "3       Columbian  Regular  \n",
       "4       Columbian  Regular  \n",
       "...           ...      ...  \n",
       "4243  Caffe Latte  Regular  \n",
       "4244  Caffe Latte  Regular  \n",
       "4245  Caffe Latte  Regular  \n",
       "4246  Caffe Latte  Regular  \n",
       "4247  Caffe Latte  Regular  \n",
       "\n",
       "[4248 rows x 20 columns]"
      ]
     },
     "execution_count": 3,
     "metadata": {},
     "output_type": "execute_result"
    }
   ],
   "source": [
    "df = pd.read_csv('Market Sales.csv')\n",
    "df"
   ]
  },
  {
   "cell_type": "markdown",
   "id": "86621537-53eb-43e6-a298-316a0001c3e8",
   "metadata": {
    "jp-MarkdownHeadingCollapsed": true,
    "tags": []
   },
   "source": [
    "#\n",
    "#\n",
    "# Data Cleansing\n",
    "#"
   ]
  },
  {
   "cell_type": "code",
   "execution_count": 4,
   "id": "4482630f-b3e7-44b2-afe1-db10af5b4d7d",
   "metadata": {},
   "outputs": [
    {
     "data": {
      "text/plain": [
       "(4248, 20)"
      ]
     },
     "execution_count": 4,
     "metadata": {},
     "output_type": "execute_result"
    }
   ],
   "source": [
    "df.shape"
   ]
  },
  {
   "cell_type": "markdown",
   "id": "cb14e448-9ad1-4fc0-9182-439932f6f32f",
   "metadata": {},
   "source": [
    "#\n",
    "#### --Finding NaN Values"
   ]
  },
  {
   "cell_type": "code",
   "execution_count": 5,
   "id": "1e8d9265-606a-4a2e-9cbd-29ee27d44b56",
   "metadata": {},
   "outputs": [
    {
     "data": {
      "text/plain": [
       "Area Code         False\n",
       "State             False\n",
       "Market            False\n",
       "Market Size       False\n",
       "Profit            False\n",
       "Margin            False\n",
       "Sales             False\n",
       "COGS              False\n",
       "Total Expenses    False\n",
       "Marketing         False\n",
       "Inventory         False\n",
       "Budget Profit     False\n",
       "Budget COGS       False\n",
       "Budget Margin     False\n",
       "Budget Sales      False\n",
       "ProductId         False\n",
       "Date              False\n",
       "Product Type      False\n",
       "Product           False\n",
       "Type              False\n",
       "dtype: bool"
      ]
     },
     "execution_count": 5,
     "metadata": {},
     "output_type": "execute_result"
    }
   ],
   "source": [
    "df.isnull().any()"
   ]
  },
  {
   "cell_type": "code",
   "execution_count": 6,
   "id": "bcc528f7-9631-4ba5-976f-35f13c7d9fed",
   "metadata": {},
   "outputs": [
    {
     "data": {
      "text/plain": [
       "0"
      ]
     },
     "execution_count": 6,
     "metadata": {},
     "output_type": "execute_result"
    }
   ],
   "source": [
    "df.isnull().sum().sum()"
   ]
  },
  {
   "cell_type": "markdown",
   "id": "84b7203f-cc88-4580-912b-c4c3fe87e52c",
   "metadata": {},
   "source": [
    "#\n",
    "#### -Dropping NaN Column"
   ]
  },
  {
   "cell_type": "code",
   "execution_count": 7,
   "id": "0b97b4de-0f63-44f7-baa5-a8ef228c1b6a",
   "metadata": {},
   "outputs": [
    {
     "data": {
      "text/html": [
       "<div>\n",
       "<style scoped>\n",
       "    .dataframe tbody tr th:only-of-type {\n",
       "        vertical-align: middle;\n",
       "    }\n",
       "\n",
       "    .dataframe tbody tr th {\n",
       "        vertical-align: top;\n",
       "    }\n",
       "\n",
       "    .dataframe thead th {\n",
       "        text-align: right;\n",
       "    }\n",
       "</style>\n",
       "<table border=\"1\" class=\"dataframe\">\n",
       "  <thead>\n",
       "    <tr style=\"text-align: right;\">\n",
       "      <th></th>\n",
       "      <th>Area Code</th>\n",
       "      <th>State</th>\n",
       "      <th>Market</th>\n",
       "      <th>Market Size</th>\n",
       "      <th>Profit</th>\n",
       "      <th>Margin</th>\n",
       "      <th>Sales</th>\n",
       "      <th>COGS</th>\n",
       "      <th>Total Expenses</th>\n",
       "      <th>Marketing</th>\n",
       "      <th>Inventory</th>\n",
       "      <th>Budget Profit</th>\n",
       "      <th>Budget COGS</th>\n",
       "      <th>Budget Margin</th>\n",
       "      <th>Budget Sales</th>\n",
       "      <th>ProductId</th>\n",
       "      <th>Date</th>\n",
       "      <th>Product Type</th>\n",
       "      <th>Product</th>\n",
       "      <th>Type</th>\n",
       "    </tr>\n",
       "  </thead>\n",
       "  <tbody>\n",
       "    <tr>\n",
       "      <th>0</th>\n",
       "      <td>203</td>\n",
       "      <td>Connecticut</td>\n",
       "      <td>East</td>\n",
       "      <td>Small Market</td>\n",
       "      <td>107</td>\n",
       "      <td>176</td>\n",
       "      <td>292</td>\n",
       "      <td>116</td>\n",
       "      <td>69</td>\n",
       "      <td>38</td>\n",
       "      <td>962</td>\n",
       "      <td>110</td>\n",
       "      <td>110</td>\n",
       "      <td>160</td>\n",
       "      <td>270</td>\n",
       "      <td>2</td>\n",
       "      <td>4/1/2010 0:00</td>\n",
       "      <td>Coffee</td>\n",
       "      <td>Columbian</td>\n",
       "      <td>Regular</td>\n",
       "    </tr>\n",
       "    <tr>\n",
       "      <th>1</th>\n",
       "      <td>203</td>\n",
       "      <td>Connecticut</td>\n",
       "      <td>East</td>\n",
       "      <td>Small Market</td>\n",
       "      <td>75</td>\n",
       "      <td>135</td>\n",
       "      <td>225</td>\n",
       "      <td>90</td>\n",
       "      <td>60</td>\n",
       "      <td>29</td>\n",
       "      <td>1148</td>\n",
       "      <td>90</td>\n",
       "      <td>80</td>\n",
       "      <td>130</td>\n",
       "      <td>210</td>\n",
       "      <td>2</td>\n",
       "      <td>7/1/2010 0:00</td>\n",
       "      <td>Coffee</td>\n",
       "      <td>Columbian</td>\n",
       "      <td>Regular</td>\n",
       "    </tr>\n",
       "    <tr>\n",
       "      <th>2</th>\n",
       "      <td>203</td>\n",
       "      <td>Connecticut</td>\n",
       "      <td>East</td>\n",
       "      <td>Small Market</td>\n",
       "      <td>122</td>\n",
       "      <td>195</td>\n",
       "      <td>325</td>\n",
       "      <td>130</td>\n",
       "      <td>73</td>\n",
       "      <td>42</td>\n",
       "      <td>1134</td>\n",
       "      <td>130</td>\n",
       "      <td>110</td>\n",
       "      <td>180</td>\n",
       "      <td>290</td>\n",
       "      <td>2</td>\n",
       "      <td>11/1/2010 0:00</td>\n",
       "      <td>Coffee</td>\n",
       "      <td>Columbian</td>\n",
       "      <td>Regular</td>\n",
       "    </tr>\n",
       "    <tr>\n",
       "      <th>3</th>\n",
       "      <td>203</td>\n",
       "      <td>Connecticut</td>\n",
       "      <td>East</td>\n",
       "      <td>Small Market</td>\n",
       "      <td>105</td>\n",
       "      <td>174</td>\n",
       "      <td>289</td>\n",
       "      <td>115</td>\n",
       "      <td>69</td>\n",
       "      <td>37</td>\n",
       "      <td>1166</td>\n",
       "      <td>110</td>\n",
       "      <td>100</td>\n",
       "      <td>160</td>\n",
       "      <td>260</td>\n",
       "      <td>2</td>\n",
       "      <td>12/1/2010 0:00</td>\n",
       "      <td>Coffee</td>\n",
       "      <td>Columbian</td>\n",
       "      <td>Regular</td>\n",
       "    </tr>\n",
       "    <tr>\n",
       "      <th>4</th>\n",
       "      <td>203</td>\n",
       "      <td>Connecticut</td>\n",
       "      <td>East</td>\n",
       "      <td>Small Market</td>\n",
       "      <td>104</td>\n",
       "      <td>135</td>\n",
       "      <td>223</td>\n",
       "      <td>90</td>\n",
       "      <td>56</td>\n",
       "      <td>29</td>\n",
       "      <td>1148</td>\n",
       "      <td>90</td>\n",
       "      <td>80</td>\n",
       "      <td>130</td>\n",
       "      <td>210</td>\n",
       "      <td>2</td>\n",
       "      <td>7/1/2011 0:00</td>\n",
       "      <td>Coffee</td>\n",
       "      <td>Columbian</td>\n",
       "      <td>Regular</td>\n",
       "    </tr>\n",
       "    <tr>\n",
       "      <th>...</th>\n",
       "      <td>...</td>\n",
       "      <td>...</td>\n",
       "      <td>...</td>\n",
       "      <td>...</td>\n",
       "      <td>...</td>\n",
       "      <td>...</td>\n",
       "      <td>...</td>\n",
       "      <td>...</td>\n",
       "      <td>...</td>\n",
       "      <td>...</td>\n",
       "      <td>...</td>\n",
       "      <td>...</td>\n",
       "      <td>...</td>\n",
       "      <td>...</td>\n",
       "      <td>...</td>\n",
       "      <td>...</td>\n",
       "      <td>...</td>\n",
       "      <td>...</td>\n",
       "      <td>...</td>\n",
       "      <td>...</td>\n",
       "    </tr>\n",
       "    <tr>\n",
       "      <th>4243</th>\n",
       "      <td>985</td>\n",
       "      <td>Louisiana</td>\n",
       "      <td>South</td>\n",
       "      <td>Small Market</td>\n",
       "      <td>-6</td>\n",
       "      <td>66</td>\n",
       "      <td>113</td>\n",
       "      <td>47</td>\n",
       "      <td>72</td>\n",
       "      <td>42</td>\n",
       "      <td>-395</td>\n",
       "      <td>0</td>\n",
       "      <td>40</td>\n",
       "      <td>50</td>\n",
       "      <td>90</td>\n",
       "      <td>4</td>\n",
       "      <td>7/1/2010 0:00</td>\n",
       "      <td>Espresso</td>\n",
       "      <td>Caffe Latte</td>\n",
       "      <td>Regular</td>\n",
       "    </tr>\n",
       "    <tr>\n",
       "      <th>4244</th>\n",
       "      <td>985</td>\n",
       "      <td>Louisiana</td>\n",
       "      <td>South</td>\n",
       "      <td>Small Market</td>\n",
       "      <td>-7</td>\n",
       "      <td>61</td>\n",
       "      <td>105</td>\n",
       "      <td>44</td>\n",
       "      <td>68</td>\n",
       "      <td>39</td>\n",
       "      <td>-508</td>\n",
       "      <td>10</td>\n",
       "      <td>30</td>\n",
       "      <td>60</td>\n",
       "      <td>90</td>\n",
       "      <td>4</td>\n",
       "      <td>8/1/2010 0:00</td>\n",
       "      <td>Espresso</td>\n",
       "      <td>Caffe Latte</td>\n",
       "      <td>Regular</td>\n",
       "    </tr>\n",
       "    <tr>\n",
       "      <th>4245</th>\n",
       "      <td>985</td>\n",
       "      <td>Louisiana</td>\n",
       "      <td>South</td>\n",
       "      <td>Small Market</td>\n",
       "      <td>-3</td>\n",
       "      <td>76</td>\n",
       "      <td>131</td>\n",
       "      <td>55</td>\n",
       "      <td>79</td>\n",
       "      <td>49</td>\n",
       "      <td>-1053</td>\n",
       "      <td>0</td>\n",
       "      <td>40</td>\n",
       "      <td>60</td>\n",
       "      <td>100</td>\n",
       "      <td>4</td>\n",
       "      <td>12/1/2010 0:00</td>\n",
       "      <td>Espresso</td>\n",
       "      <td>Caffe Latte</td>\n",
       "      <td>Regular</td>\n",
       "    </tr>\n",
       "    <tr>\n",
       "      <th>4246</th>\n",
       "      <td>985</td>\n",
       "      <td>Louisiana</td>\n",
       "      <td>South</td>\n",
       "      <td>Small Market</td>\n",
       "      <td>1</td>\n",
       "      <td>87</td>\n",
       "      <td>160</td>\n",
       "      <td>63</td>\n",
       "      <td>86</td>\n",
       "      <td>57</td>\n",
       "      <td>37</td>\n",
       "      <td>0</td>\n",
       "      <td>50</td>\n",
       "      <td>70</td>\n",
       "      <td>120</td>\n",
       "      <td>4</td>\n",
       "      <td>4/1/2011 0:00</td>\n",
       "      <td>Espresso</td>\n",
       "      <td>Caffe Latte</td>\n",
       "      <td>Regular</td>\n",
       "    </tr>\n",
       "    <tr>\n",
       "      <th>4247</th>\n",
       "      <td>985</td>\n",
       "      <td>Louisiana</td>\n",
       "      <td>South</td>\n",
       "      <td>Small Market</td>\n",
       "      <td>4</td>\n",
       "      <td>90</td>\n",
       "      <td>153</td>\n",
       "      <td>64</td>\n",
       "      <td>81</td>\n",
       "      <td>58</td>\n",
       "      <td>-113</td>\n",
       "      <td>10</td>\n",
       "      <td>50</td>\n",
       "      <td>80</td>\n",
       "      <td>130</td>\n",
       "      <td>4</td>\n",
       "      <td>5/1/2011 0:00</td>\n",
       "      <td>Espresso</td>\n",
       "      <td>Caffe Latte</td>\n",
       "      <td>Regular</td>\n",
       "    </tr>\n",
       "  </tbody>\n",
       "</table>\n",
       "<p>4248 rows × 20 columns</p>\n",
       "</div>"
      ],
      "text/plain": [
       "      Area Code        State Market   Market Size  Profit  Margin  Sales  \\\n",
       "0           203  Connecticut   East  Small Market     107     176    292   \n",
       "1           203  Connecticut   East  Small Market      75     135    225   \n",
       "2           203  Connecticut   East  Small Market     122     195    325   \n",
       "3           203  Connecticut   East  Small Market     105     174    289   \n",
       "4           203  Connecticut   East  Small Market     104     135    223   \n",
       "...         ...          ...    ...           ...     ...     ...    ...   \n",
       "4243        985    Louisiana  South  Small Market      -6      66    113   \n",
       "4244        985    Louisiana  South  Small Market      -7      61    105   \n",
       "4245        985    Louisiana  South  Small Market      -3      76    131   \n",
       "4246        985    Louisiana  South  Small Market       1      87    160   \n",
       "4247        985    Louisiana  South  Small Market       4      90    153   \n",
       "\n",
       "      COGS  Total Expenses  Marketing  Inventory  Budget Profit  Budget COGS  \\\n",
       "0      116              69         38        962            110          110   \n",
       "1       90              60         29       1148             90           80   \n",
       "2      130              73         42       1134            130          110   \n",
       "3      115              69         37       1166            110          100   \n",
       "4       90              56         29       1148             90           80   \n",
       "...    ...             ...        ...        ...            ...          ...   \n",
       "4243    47              72         42       -395              0           40   \n",
       "4244    44              68         39       -508             10           30   \n",
       "4245    55              79         49      -1053              0           40   \n",
       "4246    63              86         57         37              0           50   \n",
       "4247    64              81         58       -113             10           50   \n",
       "\n",
       "      Budget Margin  Budget Sales  ProductId            Date Product Type  \\\n",
       "0               160           270          2   4/1/2010 0:00       Coffee   \n",
       "1               130           210          2   7/1/2010 0:00       Coffee   \n",
       "2               180           290          2  11/1/2010 0:00       Coffee   \n",
       "3               160           260          2  12/1/2010 0:00       Coffee   \n",
       "4               130           210          2   7/1/2011 0:00       Coffee   \n",
       "...             ...           ...        ...             ...          ...   \n",
       "4243             50            90          4   7/1/2010 0:00     Espresso   \n",
       "4244             60            90          4   8/1/2010 0:00     Espresso   \n",
       "4245             60           100          4  12/1/2010 0:00     Espresso   \n",
       "4246             70           120          4   4/1/2011 0:00     Espresso   \n",
       "4247             80           130          4   5/1/2011 0:00     Espresso   \n",
       "\n",
       "          Product     Type  \n",
       "0       Columbian  Regular  \n",
       "1       Columbian  Regular  \n",
       "2       Columbian  Regular  \n",
       "3       Columbian  Regular  \n",
       "4       Columbian  Regular  \n",
       "...           ...      ...  \n",
       "4243  Caffe Latte  Regular  \n",
       "4244  Caffe Latte  Regular  \n",
       "4245  Caffe Latte  Regular  \n",
       "4246  Caffe Latte  Regular  \n",
       "4247  Caffe Latte  Regular  \n",
       "\n",
       "[4248 rows x 20 columns]"
      ]
     },
     "execution_count": 7,
     "metadata": {},
     "output_type": "execute_result"
    }
   ],
   "source": [
    "df_drop = df.dropna(axis=1)\n",
    "df_drop"
   ]
  },
  {
   "cell_type": "code",
   "execution_count": 8,
   "id": "09137b26-1c10-40c1-86be-3b4d1cc4303c",
   "metadata": {},
   "outputs": [
    {
     "data": {
      "text/plain": [
       "(4248, 20)"
      ]
     },
     "execution_count": 8,
     "metadata": {},
     "output_type": "execute_result"
    }
   ],
   "source": [
    "df_drop.shape"
   ]
  },
  {
   "cell_type": "code",
   "execution_count": 9,
   "id": "93fd322e-1bc0-4fd8-9fa7-34e9df735091",
   "metadata": {},
   "outputs": [
    {
     "data": {
      "text/plain": [
       "Area Code         0\n",
       "State             0\n",
       "Market            0\n",
       "Market Size       0\n",
       "Profit            0\n",
       "Margin            0\n",
       "Sales             0\n",
       "COGS              0\n",
       "Total Expenses    0\n",
       "Marketing         0\n",
       "Inventory         0\n",
       "Budget Profit     0\n",
       "Budget COGS       0\n",
       "Budget Margin     0\n",
       "Budget Sales      0\n",
       "ProductId         0\n",
       "Date              0\n",
       "Product Type      0\n",
       "Product           0\n",
       "Type              0\n",
       "dtype: int64"
      ]
     },
     "execution_count": 9,
     "metadata": {},
     "output_type": "execute_result"
    }
   ],
   "source": [
    "df_drop.isnull().sum()"
   ]
  },
  {
   "cell_type": "markdown",
   "id": "a249d7d0-1569-4c7d-b2b0-806163265284",
   "metadata": {},
   "source": [
    "#\n",
    "####  -Capitalizing Columns"
   ]
  },
  {
   "cell_type": "code",
   "execution_count": 10,
   "id": "882b4d08-95e5-44ac-a4fd-7817a74b2c7f",
   "metadata": {},
   "outputs": [],
   "source": [
    "df_drop.columns = df_drop.columns.str.upper()"
   ]
  },
  {
   "cell_type": "code",
   "execution_count": 11,
   "id": "9382a1ea-a4f1-43ac-bdec-aafe582500bd",
   "metadata": {},
   "outputs": [
    {
     "data": {
      "text/html": [
       "<div>\n",
       "<style scoped>\n",
       "    .dataframe tbody tr th:only-of-type {\n",
       "        vertical-align: middle;\n",
       "    }\n",
       "\n",
       "    .dataframe tbody tr th {\n",
       "        vertical-align: top;\n",
       "    }\n",
       "\n",
       "    .dataframe thead th {\n",
       "        text-align: right;\n",
       "    }\n",
       "</style>\n",
       "<table border=\"1\" class=\"dataframe\">\n",
       "  <thead>\n",
       "    <tr style=\"text-align: right;\">\n",
       "      <th></th>\n",
       "      <th>AREA CODE</th>\n",
       "      <th>STATE</th>\n",
       "      <th>MARKET</th>\n",
       "      <th>MARKET SIZE</th>\n",
       "      <th>PROFIT</th>\n",
       "      <th>MARGIN</th>\n",
       "      <th>SALES</th>\n",
       "      <th>COGS</th>\n",
       "      <th>TOTAL EXPENSES</th>\n",
       "      <th>MARKETING</th>\n",
       "      <th>INVENTORY</th>\n",
       "      <th>BUDGET PROFIT</th>\n",
       "      <th>BUDGET COGS</th>\n",
       "      <th>BUDGET MARGIN</th>\n",
       "      <th>BUDGET SALES</th>\n",
       "      <th>PRODUCTID</th>\n",
       "      <th>DATE</th>\n",
       "      <th>PRODUCT TYPE</th>\n",
       "      <th>PRODUCT</th>\n",
       "      <th>TYPE</th>\n",
       "    </tr>\n",
       "  </thead>\n",
       "  <tbody>\n",
       "    <tr>\n",
       "      <th>0</th>\n",
       "      <td>203</td>\n",
       "      <td>Connecticut</td>\n",
       "      <td>East</td>\n",
       "      <td>Small Market</td>\n",
       "      <td>107</td>\n",
       "      <td>176</td>\n",
       "      <td>292</td>\n",
       "      <td>116</td>\n",
       "      <td>69</td>\n",
       "      <td>38</td>\n",
       "      <td>962</td>\n",
       "      <td>110</td>\n",
       "      <td>110</td>\n",
       "      <td>160</td>\n",
       "      <td>270</td>\n",
       "      <td>2</td>\n",
       "      <td>4/1/2010 0:00</td>\n",
       "      <td>Coffee</td>\n",
       "      <td>Columbian</td>\n",
       "      <td>Regular</td>\n",
       "    </tr>\n",
       "    <tr>\n",
       "      <th>1</th>\n",
       "      <td>203</td>\n",
       "      <td>Connecticut</td>\n",
       "      <td>East</td>\n",
       "      <td>Small Market</td>\n",
       "      <td>75</td>\n",
       "      <td>135</td>\n",
       "      <td>225</td>\n",
       "      <td>90</td>\n",
       "      <td>60</td>\n",
       "      <td>29</td>\n",
       "      <td>1148</td>\n",
       "      <td>90</td>\n",
       "      <td>80</td>\n",
       "      <td>130</td>\n",
       "      <td>210</td>\n",
       "      <td>2</td>\n",
       "      <td>7/1/2010 0:00</td>\n",
       "      <td>Coffee</td>\n",
       "      <td>Columbian</td>\n",
       "      <td>Regular</td>\n",
       "    </tr>\n",
       "    <tr>\n",
       "      <th>2</th>\n",
       "      <td>203</td>\n",
       "      <td>Connecticut</td>\n",
       "      <td>East</td>\n",
       "      <td>Small Market</td>\n",
       "      <td>122</td>\n",
       "      <td>195</td>\n",
       "      <td>325</td>\n",
       "      <td>130</td>\n",
       "      <td>73</td>\n",
       "      <td>42</td>\n",
       "      <td>1134</td>\n",
       "      <td>130</td>\n",
       "      <td>110</td>\n",
       "      <td>180</td>\n",
       "      <td>290</td>\n",
       "      <td>2</td>\n",
       "      <td>11/1/2010 0:00</td>\n",
       "      <td>Coffee</td>\n",
       "      <td>Columbian</td>\n",
       "      <td>Regular</td>\n",
       "    </tr>\n",
       "    <tr>\n",
       "      <th>3</th>\n",
       "      <td>203</td>\n",
       "      <td>Connecticut</td>\n",
       "      <td>East</td>\n",
       "      <td>Small Market</td>\n",
       "      <td>105</td>\n",
       "      <td>174</td>\n",
       "      <td>289</td>\n",
       "      <td>115</td>\n",
       "      <td>69</td>\n",
       "      <td>37</td>\n",
       "      <td>1166</td>\n",
       "      <td>110</td>\n",
       "      <td>100</td>\n",
       "      <td>160</td>\n",
       "      <td>260</td>\n",
       "      <td>2</td>\n",
       "      <td>12/1/2010 0:00</td>\n",
       "      <td>Coffee</td>\n",
       "      <td>Columbian</td>\n",
       "      <td>Regular</td>\n",
       "    </tr>\n",
       "    <tr>\n",
       "      <th>4</th>\n",
       "      <td>203</td>\n",
       "      <td>Connecticut</td>\n",
       "      <td>East</td>\n",
       "      <td>Small Market</td>\n",
       "      <td>104</td>\n",
       "      <td>135</td>\n",
       "      <td>223</td>\n",
       "      <td>90</td>\n",
       "      <td>56</td>\n",
       "      <td>29</td>\n",
       "      <td>1148</td>\n",
       "      <td>90</td>\n",
       "      <td>80</td>\n",
       "      <td>130</td>\n",
       "      <td>210</td>\n",
       "      <td>2</td>\n",
       "      <td>7/1/2011 0:00</td>\n",
       "      <td>Coffee</td>\n",
       "      <td>Columbian</td>\n",
       "      <td>Regular</td>\n",
       "    </tr>\n",
       "  </tbody>\n",
       "</table>\n",
       "</div>"
      ],
      "text/plain": [
       "   AREA CODE        STATE MARKET   MARKET SIZE  PROFIT  MARGIN  SALES  COGS  \\\n",
       "0        203  Connecticut   East  Small Market     107     176    292   116   \n",
       "1        203  Connecticut   East  Small Market      75     135    225    90   \n",
       "2        203  Connecticut   East  Small Market     122     195    325   130   \n",
       "3        203  Connecticut   East  Small Market     105     174    289   115   \n",
       "4        203  Connecticut   East  Small Market     104     135    223    90   \n",
       "\n",
       "   TOTAL EXPENSES  MARKETING  INVENTORY  BUDGET PROFIT  BUDGET COGS  \\\n",
       "0              69         38        962            110          110   \n",
       "1              60         29       1148             90           80   \n",
       "2              73         42       1134            130          110   \n",
       "3              69         37       1166            110          100   \n",
       "4              56         29       1148             90           80   \n",
       "\n",
       "   BUDGET MARGIN  BUDGET SALES  PRODUCTID            DATE PRODUCT TYPE  \\\n",
       "0            160           270          2   4/1/2010 0:00       Coffee   \n",
       "1            130           210          2   7/1/2010 0:00       Coffee   \n",
       "2            180           290          2  11/1/2010 0:00       Coffee   \n",
       "3            160           260          2  12/1/2010 0:00       Coffee   \n",
       "4            130           210          2   7/1/2011 0:00       Coffee   \n",
       "\n",
       "     PRODUCT     TYPE  \n",
       "0  Columbian  Regular  \n",
       "1  Columbian  Regular  \n",
       "2  Columbian  Regular  \n",
       "3  Columbian  Regular  \n",
       "4  Columbian  Regular  "
      ]
     },
     "execution_count": 11,
     "metadata": {},
     "output_type": "execute_result"
    }
   ],
   "source": [
    "df_drop.head()"
   ]
  },
  {
   "cell_type": "markdown",
   "id": "efc7adc2-d888-4952-b3a0-b1e4af4fb7e0",
   "metadata": {},
   "source": [
    "#\n",
    "#### -Looking for Duplicates"
   ]
  },
  {
   "cell_type": "code",
   "execution_count": 12,
   "id": "4c111dd7-a5a7-44e3-a994-84156b5796cd",
   "metadata": {},
   "outputs": [
    {
     "data": {
      "text/plain": [
       "0       False\n",
       "1       False\n",
       "2       False\n",
       "3       False\n",
       "4       False\n",
       "        ...  \n",
       "4243    False\n",
       "4244    False\n",
       "4245    False\n",
       "4246    False\n",
       "4247    False\n",
       "Length: 4248, dtype: bool"
      ]
     },
     "execution_count": 12,
     "metadata": {},
     "output_type": "execute_result"
    }
   ],
   "source": [
    "df_drop.duplicated()"
   ]
  },
  {
   "cell_type": "code",
   "execution_count": 13,
   "id": "56b36a36-a922-4466-b117-8e57f0dfd05e",
   "metadata": {},
   "outputs": [
    {
     "data": {
      "text/plain": [
       "array([False, False, False, False, False, False, False, False, False,\n",
       "       False, False, False, False, False, False, False, False, False,\n",
       "       False, False])"
      ]
     },
     "execution_count": 13,
     "metadata": {},
     "output_type": "execute_result"
    }
   ],
   "source": [
    "df_drop.columns.duplicated()"
   ]
  },
  {
   "cell_type": "code",
   "execution_count": 14,
   "id": "bb186d2c-a582-4371-89ce-5b0c60d979c8",
   "metadata": {},
   "outputs": [
    {
     "data": {
      "text/plain": [
       "0       False\n",
       "1        True\n",
       "2        True\n",
       "3        True\n",
       "4        True\n",
       "        ...  \n",
       "4243     True\n",
       "4244     True\n",
       "4245     True\n",
       "4246     True\n",
       "4247     True\n",
       "Length: 4248, dtype: bool"
      ]
     },
     "execution_count": 14,
     "metadata": {},
     "output_type": "execute_result"
    }
   ],
   "source": [
    "df_drop.duplicated(['AREA CODE'])"
   ]
  },
  {
   "cell_type": "markdown",
   "id": "5f79a83b-8470-46c9-8448-2a96724ea741",
   "metadata": {},
   "source": [
    "#\n",
    "#### -Checking Data Types"
   ]
  },
  {
   "cell_type": "code",
   "execution_count": 15,
   "id": "71374d23-95ae-4ca0-9b38-b67885b689d9",
   "metadata": {},
   "outputs": [
    {
     "data": {
      "text/plain": [
       "AREA CODE          int64\n",
       "STATE             object\n",
       "MARKET            object\n",
       "MARKET SIZE       object\n",
       "PROFIT             int64\n",
       "MARGIN             int64\n",
       "SALES              int64\n",
       "COGS               int64\n",
       "TOTAL EXPENSES     int64\n",
       "MARKETING          int64\n",
       "INVENTORY          int64\n",
       "BUDGET PROFIT      int64\n",
       "BUDGET COGS        int64\n",
       "BUDGET MARGIN      int64\n",
       "BUDGET SALES       int64\n",
       "PRODUCTID          int64\n",
       "DATE              object\n",
       "PRODUCT TYPE      object\n",
       "PRODUCT           object\n",
       "TYPE              object\n",
       "dtype: object"
      ]
     },
     "execution_count": 15,
     "metadata": {},
     "output_type": "execute_result"
    }
   ],
   "source": [
    "df_drop.dtypes"
   ]
  },
  {
   "cell_type": "markdown",
   "id": "2de52933-c7c0-4945-817b-7da6b63a8426",
   "metadata": {
    "tags": []
   },
   "source": [
    "#\n",
    "#\n",
    "# Total Expense"
   ]
  },
  {
   "cell_type": "markdown",
   "id": "d5f71991-adde-4306-90c8-b69a54b65bed",
   "metadata": {},
   "source": [
    "#\n",
    "### -Total Expense Nationwide"
   ]
  },
  {
   "cell_type": "code",
   "execution_count": 16,
   "id": "6e5c501f-d959-46cf-8d3e-a32265282e38",
   "metadata": {},
   "outputs": [
    {
     "data": {
      "text/plain": [
       "229662"
      ]
     },
     "execution_count": 16,
     "metadata": {},
     "output_type": "execute_result"
    }
   ],
   "source": [
    "df_drop['TOTAL EXPENSES'].sum()"
   ]
  },
  {
   "cell_type": "markdown",
   "id": "35f48fc4-eaf6-49ea-92be-091e2b7d7968",
   "metadata": {},
   "source": [
    "### -Total Expense per Market Region"
   ]
  },
  {
   "cell_type": "code",
   "execution_count": 17,
   "id": "41b8fcf7-ad8c-461b-8eec-60b0f8acdfb4",
   "metadata": {},
   "outputs": [
    {
     "data": {
      "text/plain": [
       "MARKET\n",
       "West       79514\n",
       "Central    69033\n",
       "East       50113\n",
       "South      31002\n",
       "Name: TOTAL EXPENSES, dtype: int64"
      ]
     },
     "execution_count": 17,
     "metadata": {},
     "output_type": "execute_result"
    }
   ],
   "source": [
    "df_drop.groupby('MARKET')['TOTAL EXPENSES'].sum().sort_values(ascending=False)"
   ]
  },
  {
   "cell_type": "markdown",
   "id": "a175d2f9-c697-4345-b687-30d933f84df1",
   "metadata": {},
   "source": [
    "### -Total Expense per STATE"
   ]
  },
  {
   "cell_type": "code",
   "execution_count": 18,
   "id": "ec6fbe11-c4d6-478c-b0f1-b1f9ad3f49b4",
   "metadata": {},
   "outputs": [
    {
     "data": {
      "text/plain": [
       "STATE\n",
       "California       23222\n",
       "Nevada           18586\n",
       "New York         17637\n",
       "Illinois         13653\n",
       "Washington       12849\n",
       "Oregon           12448\n",
       "Utah             12409\n",
       "Colorado         12143\n",
       "Iowa             11838\n",
       "Wisconsin        11507\n",
       "Florida          11009\n",
       "Ohio             10251\n",
       "Missouri          9641\n",
       "Oklahoma          8577\n",
       "Connecticut       8096\n",
       "Texas             8000\n",
       "New Mexico        7243\n",
       "Louisiana         7182\n",
       "Massachusetts     6765\n",
       "New Hampshire     6606\n",
       "Name: TOTAL EXPENSES, dtype: int64"
      ]
     },
     "execution_count": 18,
     "metadata": {},
     "output_type": "execute_result"
    }
   ],
   "source": [
    "df_drop.groupby('STATE')['TOTAL EXPENSES'].sum().sort_values(ascending=False)"
   ]
  },
  {
   "cell_type": "code",
   "execution_count": 19,
   "id": "aa475d26-4edb-44b1-b461-b2e5c477b955",
   "metadata": {},
   "outputs": [
    {
     "data": {
      "text/plain": [
       "Text(0, 0.5, 'Expense')"
      ]
     },
     "execution_count": 19,
     "metadata": {},
     "output_type": "execute_result"
    },
    {
     "data": {
      "image/png": "[encoded data removed]",
      "text/plain": [
       "<Figure size 640x480 with 1 Axes>"
      ]
     },
     "metadata": {},
     "output_type": "display_data"
    }
   ],
   "source": [
    "ax = df_drop.groupby('STATE')['TOTAL EXPENSES'].sum().sort_values(ascending=False) \\\n",
    "       .plot(kind='bar',title='Expense per State')\n",
    "ax.set_ylabel('Expense')"
   ]
  },
  {
   "cell_type": "code",
   "execution_count": 20,
   "id": "13e8db22-ff26-45b8-9158-352225f0bd06",
   "metadata": {
    "scrolled": true,
    "tags": []
   },
   "outputs": [
    {
     "data": {
      "text/plain": [
       "STATE       PRODUCT          \n",
       "California  Amaretto             1474\n",
       "            Caffe Latte          2188\n",
       "            Caffe Mocha          3614\n",
       "            Chamomile             952\n",
       "            Columbian            3698\n",
       "                                 ... \n",
       "Wisconsin   Darjeeling            881\n",
       "            Decaf Espresso        582\n",
       "            Decaf Irish Cream    1309\n",
       "            Earl Grey            1972\n",
       "            Lemon                 581\n",
       "Name: TOTAL EXPENSES, Length: 177, dtype: int64"
      ]
     },
     "execution_count": 20,
     "metadata": {},
     "output_type": "execute_result"
    }
   ],
   "source": [
    "df_drop.groupby(['STATE','PRODUCT'])['TOTAL EXPENSES'].sum()"
   ]
  },
  {
   "cell_type": "markdown",
   "id": "572ba0ab-a559-40f9-be01-a4691f4ac5b1",
   "metadata": {},
   "source": [
    "### -Product Type and Products"
   ]
  },
  {
   "cell_type": "code",
   "execution_count": 21,
   "id": "8462877c-ce66-436f-9e15-801b8d30ca21",
   "metadata": {},
   "outputs": [
    {
     "data": {
      "text/plain": [
       "PRODUCT TYPE  PRODUCT          \n",
       "Coffee        Amaretto              8897\n",
       "              Columbian            31373\n",
       "              Decaf Irish Cream    19755\n",
       "Espresso      Caffe Latte          10449\n",
       "              Caffe Mocha          30367\n",
       "              Decaf Espresso       18918\n",
       "              Regular Espresso      4869\n",
       "Herbal Tea    Chamomile            20164\n",
       "              Lemon                27746\n",
       "              Mint                  9904\n",
       "Tea           Darjeeling           17197\n",
       "              Earl Grey            16916\n",
       "              Green Tea            13107\n",
       "Name: TOTAL EXPENSES, dtype: int64"
      ]
     },
     "execution_count": 21,
     "metadata": {},
     "output_type": "execute_result"
    }
   ],
   "source": [
    "df_drop.groupby(['PRODUCT TYPE','PRODUCT'])['TOTAL EXPENSES'].sum()"
   ]
  },
  {
   "cell_type": "markdown",
   "id": "a5983207-2a1c-46a1-a7b3-0a2cc4ec7766",
   "metadata": {},
   "source": [
    "### -Total Expense per Product Type"
   ]
  },
  {
   "cell_type": "code",
   "execution_count": 22,
   "id": "498494b4-ce31-42ad-8c07-29013cecc99d",
   "metadata": {},
   "outputs": [
    {
     "data": {
      "text/plain": [
       "PRODUCT TYPE\n",
       "Espresso      64603\n",
       "Coffee        60025\n",
       "Herbal Tea    57814\n",
       "Tea           47220\n",
       "Name: TOTAL EXPENSES, dtype: int64"
      ]
     },
     "execution_count": 22,
     "metadata": {},
     "output_type": "execute_result"
    }
   ],
   "source": [
    "df_drop.groupby('PRODUCT TYPE')['TOTAL EXPENSES'].sum().sort_values(ascending=False)"
   ]
  },
  {
   "cell_type": "markdown",
   "id": "52f1338c-2696-461b-8fba-41524c42a259",
   "metadata": {},
   "source": [
    "### -Total Expense per Product"
   ]
  },
  {
   "cell_type": "code",
   "execution_count": 23,
   "id": "b65dae2c-2454-4dc8-8845-d333eb08f978",
   "metadata": {},
   "outputs": [],
   "source": [
    "df_product = df_drop.groupby('PRODUCT')['TOTAL EXPENSES'].sum() "
   ]
  },
  {
   "cell_type": "code",
   "execution_count": 24,
   "id": "319c8f85-3617-4172-a53e-64e6997366a3",
   "metadata": {},
   "outputs": [
    {
     "data": {
      "text/plain": [
       "PRODUCT\n",
       "Columbian            31373\n",
       "Caffe Mocha          30367\n",
       "Lemon                27746\n",
       "Chamomile            20164\n",
       "Decaf Irish Cream    19755\n",
       "Decaf Espresso       18918\n",
       "Darjeeling           17197\n",
       "Earl Grey            16916\n",
       "Green Tea            13107\n",
       "Caffe Latte          10449\n",
       "Mint                  9904\n",
       "Amaretto              8897\n",
       "Regular Espresso      4869\n",
       "Name: TOTAL EXPENSES, dtype: int64"
      ]
     },
     "execution_count": 24,
     "metadata": {},
     "output_type": "execute_result"
    }
   ],
   "source": [
    "df_product.sort_values(ascending= False)"
   ]
  },
  {
   "cell_type": "markdown",
   "id": "846b0c88-0cd0-49f0-a364-1d0c9da06121",
   "metadata": {
    "jupyter": {
     "outputs_hidden": true
    }
   },
   "source": [
    "#\n",
    "#\n",
    "# Total Profits\n",
    "#"
   ]
  },
  {
   "cell_type": "markdown",
   "id": "310958be-1c5e-404d-888f-af67d094a563",
   "metadata": {},
   "source": [
    "### -Total Profit Nationwide"
   ]
  },
  {
   "cell_type": "code",
   "execution_count": 25,
   "id": "c3293cf0-e052-4c4c-b414-6688b14afe40",
   "metadata": {},
   "outputs": [],
   "source": [
    "Profit = df_drop['PROFIT'].sum()"
   ]
  },
  {
   "cell_type": "code",
   "execution_count": 26,
   "id": "0a0c1554-08de-4c2d-84e8-f1d6b0c2a8f6",
   "metadata": {},
   "outputs": [
    {
     "data": {
      "text/plain": [
       "259543"
      ]
     },
     "execution_count": 26,
     "metadata": {},
     "output_type": "execute_result"
    }
   ],
   "source": [
    "Profit"
   ]
  },
  {
   "cell_type": "markdown",
   "id": "ca0c927d-bee1-4f69-b8c8-215288197eb9",
   "metadata": {},
   "source": [
    "### -Total Profit per State"
   ]
  },
  {
   "cell_type": "code",
   "execution_count": 27,
   "id": "c10fa22d-e6e5-4d49-bd75-d85216af33b5",
   "metadata": {},
   "outputs": [
    {
     "data": {
      "text/plain": [
       "STATE\n",
       "California       31785\n",
       "Illinois         30821\n",
       "Iowa             22212\n",
       "New York         20096\n",
       "Colorado         17743\n",
       "Massachusetts    16442\n",
       "Texas            15766\n",
       "Oregon           12439\n",
       "Florida          12310\n",
       "Washington       11405\n",
       "Ohio             10773\n",
       "Nevada           10616\n",
       "Wisconsin         8702\n",
       "Oklahoma          8558\n",
       "Utah              7751\n",
       "Connecticut       7621\n",
       "Louisiana         7355\n",
       "Missouri          3601\n",
       "New Hampshire     2748\n",
       "New Mexico         799\n",
       "Name: PROFIT, dtype: int64"
      ]
     },
     "execution_count": 27,
     "metadata": {},
     "output_type": "execute_result"
    }
   ],
   "source": [
    "df_drop.groupby('STATE')['PROFIT'].sum().sort_values(ascending=False)"
   ]
  },
  {
   "cell_type": "code",
   "execution_count": 28,
   "id": "9ea2c7a5-aa3f-4c0e-8738-57154190d3a4",
   "metadata": {},
   "outputs": [
    {
     "data": {
      "text/plain": [
       "Text(0, 0.5, 'Profit')"
      ]
     },
     "execution_count": 28,
     "metadata": {},
     "output_type": "execute_result"
    },
    {
     "data": {
      "image/png": "[encoded data removed]",
      "text/plain": [
       "<Figure size 640x480 with 1 Axes>"
      ]
     },
     "metadata": {},
     "output_type": "display_data"
    }
   ],
   "source": [
    "ax = df_drop.groupby('STATE')['PROFIT'].sum().sort_values(ascending=False) \\\n",
    "      .plot(kind='bar',title= 'Total Profit per State')\n",
    "ax.set_ylabel('Profit')"
   ]
  },
  {
   "cell_type": "markdown",
   "id": "7ca47fc1-2f55-42df-bc6f-7308c9dfd582",
   "metadata": {},
   "source": [
    "### -Total Profit per Product in each State"
   ]
  },
  {
   "cell_type": "code",
   "execution_count": 29,
   "id": "17c1db78-fe76-46af-8edc-b6584b426055",
   "metadata": {},
   "outputs": [
    {
     "data": {
      "text/plain": [
       "STATE       PRODUCT          \n",
       "California  Amaretto            -2217\n",
       "            Caffe Latte          4497\n",
       "            Caffe Mocha           886\n",
       "            Chamomile            3252\n",
       "            Columbian            8566\n",
       "                                 ... \n",
       "Wisconsin   Darjeeling            916\n",
       "            Decaf Espresso        766\n",
       "            Decaf Irish Cream    1741\n",
       "            Earl Grey               1\n",
       "            Lemon                1338\n",
       "Name: PROFIT, Length: 177, dtype: int64"
      ]
     },
     "execution_count": 29,
     "metadata": {},
     "output_type": "execute_result"
    }
   ],
   "source": [
    "df_drop.groupby(['STATE', 'PRODUCT'])['PROFIT'].sum()"
   ]
  },
  {
   "cell_type": "markdown",
   "id": "7ea06d15-5d7b-400b-9b04-58b196767e3e",
   "metadata": {},
   "source": [
    "### -Total Profit per Product"
   ]
  },
  {
   "cell_type": "code",
   "execution_count": 31,
   "id": "968fed37-70a3-4dcd-9d80-f1e62b1e9b36",
   "metadata": {},
   "outputs": [
    {
     "data": {
      "text/plain": [
       "PRODUCT\n",
       "Columbian            55804\n",
       "Lemon                29869\n",
       "Decaf Espresso       29502\n",
       "Darjeeling           29053\n",
       "Chamomile            27231\n",
       "Earl Grey            24164\n",
       "Caffe Mocha          17678\n",
       "Decaf Irish Cream    13989\n",
       "Caffe Latte          11375\n",
       "Regular Espresso     10065\n",
       "Mint                  6154\n",
       "Amaretto              4890\n",
       "Green Tea             -231\n",
       "Name: PROFIT, dtype: int64"
      ]
     },
     "execution_count": 31,
     "metadata": {},
     "output_type": "execute_result"
    }
   ],
   "source": [
    "df_drop.groupby('PRODUCT')['PROFIT'].sum().sort_values(ascending=False)"
   ]
  },
  {
   "cell_type": "markdown",
   "id": "06cb05b4-18f3-46d2-b9f9-93f379337c62",
   "metadata": {},
   "source": [
    "### -Total Profit per Product Type"
   ]
  },
  {
   "cell_type": "code",
   "execution_count": 32,
   "id": "50709889-4d2d-4e40-8f90-a279c648d5ea",
   "metadata": {},
   "outputs": [
    {
     "data": {
      "text/plain": [
       "PRODUCT TYPE\n",
       "Coffee        74683\n",
       "Espresso      68620\n",
       "Herbal Tea    63254\n",
       "Tea           52986\n",
       "Name: PROFIT, dtype: int64"
      ]
     },
     "execution_count": 32,
     "metadata": {},
     "output_type": "execute_result"
    }
   ],
   "source": [
    "df_drop.groupby('PRODUCT TYPE')['PROFIT'].sum()"
   ]
  },
  {
   "cell_type": "markdown",
   "id": "934a73fb-2ece-4df3-9231-a813dd214e0e",
   "metadata": {},
   "source": [
    "#\n",
    "#\n",
    "#\n",
    "# Total Sales\n",
    "#\n",
    "#"
   ]
  },
  {
   "cell_type": "markdown",
   "id": "33476648-fa18-4447-8ad1-e1e4b92aad7f",
   "metadata": {},
   "source": [
    "### -Total Sales Nationwide"
   ]
  },
  {
   "cell_type": "code",
   "execution_count": 33,
   "id": "72d73292-ca20-4894-99de-fb47da06dc66",
   "metadata": {},
   "outputs": [
    {
     "data": {
      "text/plain": [
       "819811"
      ]
     },
     "execution_count": 33,
     "metadata": {},
     "output_type": "execute_result"
    }
   ],
   "source": [
    "df_drop['SALES'].sum()"
   ]
  },
  {
   "cell_type": "markdown",
   "id": "ceb9afd4-edf0-498b-998c-dddadd0321c3",
   "metadata": {},
   "source": [
    "### -Total Sales per State"
   ]
  },
  {
   "cell_type": "code",
   "execution_count": 34,
   "id": "b2245ed4-d46f-45b4-925e-bca4c56218a4",
   "metadata": {},
   "outputs": [
    {
     "data": {
      "text/plain": [
       "STATE\n",
       "California       96892\n",
       "New York         70852\n",
       "Illinois         69883\n",
       "Nevada           60159\n",
       "Iowa             54750\n",
       "Colorado         48179\n",
       "Oregon           40899\n",
       "Washington       38930\n",
       "Florida          37443\n",
       "Texas            37410\n",
       "Utah             35384\n",
       "Ohio             34517\n",
       "Wisconsin        33069\n",
       "Massachusetts    29965\n",
       "Oklahoma         27463\n",
       "Connecticut      25429\n",
       "Missouri         24647\n",
       "Louisiana        23161\n",
       "New Mexico       15892\n",
       "New Hampshire    14887\n",
       "Name: SALES, dtype: int64"
      ]
     },
     "execution_count": 34,
     "metadata": {},
     "output_type": "execute_result"
    }
   ],
   "source": [
    "df_drop.groupby('STATE')['SALES'].sum().sort_values(ascending=False)"
   ]
  },
  {
   "cell_type": "markdown",
   "id": "a78fb1e3-cd38-4b4b-b814-ed9098d40ca7",
   "metadata": {},
   "source": [
    "### -Total Sales per Product for each State"
   ]
  },
  {
   "cell_type": "code",
   "execution_count": 35,
   "id": "fad6ec54-2b05-4476-bbe4-9ef026fac642",
   "metadata": {},
   "outputs": [
    {
     "data": {
      "text/plain": [
       "STATE       PRODUCT          \n",
       "California  Amaretto              2714\n",
       "            Caffe Latte          12001\n",
       "            Caffe Mocha           7691\n",
       "            Chamomile             6233\n",
       "            Columbian            18245\n",
       "                                 ...  \n",
       "Wisconsin   Darjeeling            2809\n",
       "            Decaf Espresso        2193\n",
       "            Decaf Irish Cream     4887\n",
       "            Earl Grey             3497\n",
       "            Lemon                 2891\n",
       "Name: SALES, Length: 177, dtype: int64"
      ]
     },
     "execution_count": 35,
     "metadata": {},
     "output_type": "execute_result"
    }
   ],
   "source": [
    "df_drop.groupby(['STATE','PRODUCT'])['SALES'].sum()"
   ]
  },
  {
   "cell_type": "markdown",
   "id": "47c346cb-a990-4a89-bdcf-e6a815d8ddfb",
   "metadata": {},
   "source": [
    "### -Total Sales per Product"
   ]
  },
  {
   "cell_type": "code",
   "execution_count": 36,
   "id": "c2051953-b90e-4597-b1cc-bdbd863e07b3",
   "metadata": {},
   "outputs": [
    {
     "data": {
      "text/plain": [
       "PRODUCT\n",
       "Columbian            128311\n",
       "Lemon                 95926\n",
       "Caffe Mocha           84904\n",
       "Decaf Espresso        78162\n",
       "Chamomile             75578\n",
       "Darjeeling            73151\n",
       "Earl Grey             66772\n",
       "Decaf Irish Cream     62248\n",
       "Caffe Latte           35899\n",
       "Mint                  35710\n",
       "Green Tea             32850\n",
       "Amaretto              26269\n",
       "Regular Espresso      24031\n",
       "Name: SALES, dtype: int64"
      ]
     },
     "execution_count": 36,
     "metadata": {},
     "output_type": "execute_result"
    }
   ],
   "source": [
    "df_drop.groupby('PRODUCT')['SALES'].sum().sort_values(ascending= False)"
   ]
  },
  {
   "cell_type": "markdown",
   "id": "3adb58a1-c92e-4f2f-aa69-c4637666e451",
   "metadata": {},
   "source": [
    "### -Total Sales per Product Type"
   ]
  },
  {
   "cell_type": "code",
   "execution_count": 37,
   "id": "741a62fc-f9cb-4507-9c57-91fd86fde3ec",
   "metadata": {},
   "outputs": [
    {
     "data": {
      "text/plain": [
       "PRODUCT TYPE\n",
       "Espresso      222996\n",
       "Coffee        216828\n",
       "Herbal Tea    207214\n",
       "Tea           172773\n",
       "Name: SALES, dtype: int64"
      ]
     },
     "execution_count": 37,
     "metadata": {},
     "output_type": "execute_result"
    }
   ],
   "source": [
    "df_drop.groupby('PRODUCT TYPE')['SALES'].sum().sort_values(ascending= False)"
   ]
  },
  {
   "cell_type": "markdown",
   "id": "9c639e88-d053-4b82-9c96-760c2661a799",
   "metadata": {},
   "source": [
    "#\n",
    "#\n",
    "#\n",
    "# Total Cost\n",
    "#\n",
    "#"
   ]
  },
  {
   "cell_type": "markdown",
   "id": "4e96eb12-adc1-400f-ae9f-61b37bc6a628",
   "metadata": {},
   "source": [
    "### -Creating Total Cost Column"
   ]
  },
  {
   "cell_type": "code",
   "execution_count": 38,
   "id": "42da259c-88ae-4f06-b7fc-398aaa1ebae8",
   "metadata": {},
   "outputs": [],
   "source": [
    "df_drop['TOTAL COST'] = df_drop['TOTAL EXPENSES'] + df_drop['COGS']"
   ]
  },
  {
   "cell_type": "code",
   "execution_count": 39,
   "id": "55cea29e-91e7-42b4-afb9-afa11e2c4a16",
   "metadata": {},
   "outputs": [
    {
     "name": "stdout",
     "output_type": "stream",
     "text": [
      "      AREA CODE        STATE MARKET   MARKET SIZE  PROFIT  MARGIN  SALES  \\\n",
      "0           203  Connecticut   East  Small Market     107     176    292   \n",
      "1           203  Connecticut   East  Small Market      75     135    225   \n",
      "2           203  Connecticut   East  Small Market     122     195    325   \n",
      "3           203  Connecticut   East  Small Market     105     174    289   \n",
      "4           203  Connecticut   East  Small Market     104     135    223   \n",
      "...         ...          ...    ...           ...     ...     ...    ...   \n",
      "4243        985    Louisiana  South  Small Market      -6      66    113   \n",
      "4244        985    Louisiana  South  Small Market      -7      61    105   \n",
      "4245        985    Louisiana  South  Small Market      -3      76    131   \n",
      "4246        985    Louisiana  South  Small Market       1      87    160   \n",
      "4247        985    Louisiana  South  Small Market       4      90    153   \n",
      "\n",
      "      COGS  TOTAL EXPENSES  MARKETING  ...  BUDGET PROFIT  BUDGET COGS  \\\n",
      "0      116              69         38  ...            110          110   \n",
      "1       90              60         29  ...             90           80   \n",
      "2      130              73         42  ...            130          110   \n",
      "3      115              69         37  ...            110          100   \n",
      "4       90              56         29  ...             90           80   \n",
      "...    ...             ...        ...  ...            ...          ...   \n",
      "4243    47              72         42  ...              0           40   \n",
      "4244    44              68         39  ...             10           30   \n",
      "4245    55              79         49  ...              0           40   \n",
      "4246    63              86         57  ...              0           50   \n",
      "4247    64              81         58  ...             10           50   \n",
      "\n",
      "      BUDGET MARGIN  BUDGET SALES  PRODUCTID            DATE PRODUCT TYPE  \\\n",
      "0               160           270          2   4/1/2010 0:00       Coffee   \n",
      "1               130           210          2   7/1/2010 0:00       Coffee   \n",
      "2               180           290          2  11/1/2010 0:00       Coffee   \n",
      "3               160           260          2  12/1/2010 0:00       Coffee   \n",
      "4               130           210          2   7/1/2011 0:00       Coffee   \n",
      "...             ...           ...        ...             ...          ...   \n",
      "4243             50            90          4   7/1/2010 0:00     Espresso   \n",
      "4244             60            90          4   8/1/2010 0:00     Espresso   \n",
      "4245             60           100          4  12/1/2010 0:00     Espresso   \n",
      "4246             70           120          4   4/1/2011 0:00     Espresso   \n",
      "4247             80           130          4   5/1/2011 0:00     Espresso   \n",
      "\n",
      "          PRODUCT     TYPE TOTAL COST  \n",
      "0       Columbian  Regular        185  \n",
      "1       Columbian  Regular        150  \n",
      "2       Columbian  Regular        203  \n",
      "3       Columbian  Regular        184  \n",
      "4       Columbian  Regular        146  \n",
      "...           ...      ...        ...  \n",
      "4243  Caffe Latte  Regular        119  \n",
      "4244  Caffe Latte  Regular        112  \n",
      "4245  Caffe Latte  Regular        134  \n",
      "4246  Caffe Latte  Regular        149  \n",
      "4247  Caffe Latte  Regular        145  \n",
      "\n",
      "[4248 rows x 21 columns]\n"
     ]
    }
   ],
   "source": [
    "print(df_drop)"
   ]
  },
  {
   "cell_type": "markdown",
   "id": "980a773a-1aa7-47bd-8e8a-90e8524e0e5c",
   "metadata": {},
   "source": [
    "### -Total Cost Nationwide"
   ]
  },
  {
   "cell_type": "code",
   "execution_count": 60,
   "id": "ff798b06-0ab2-4c00-9249-bd4040ed7e4d",
   "metadata": {},
   "outputs": [],
   "source": [
    "Total_Cost = df_drop['TOTAL COST'].sum()"
   ]
  },
  {
   "cell_type": "code",
   "execution_count": 61,
   "id": "22a4e1c0-518f-4c25-921d-94234b5d408d",
   "metadata": {},
   "outputs": [
    {
     "data": {
      "text/plain": [
       "588334"
      ]
     },
     "execution_count": 61,
     "metadata": {},
     "output_type": "execute_result"
    }
   ],
   "source": [
    "Total_Cost"
   ]
  },
  {
   "cell_type": "markdown",
   "id": "fef066bd-890b-4900-9b18-63472c88972f",
   "metadata": {},
   "source": [
    "### -Total Cost per State"
   ]
  },
  {
   "cell_type": "code",
   "execution_count": 41,
   "id": "c6d0181d-08c8-46b3-8a2b-97a4631d3f03",
   "metadata": {},
   "outputs": [
    {
     "data": {
      "text/plain": [
       "STATE\n",
       "California       68704\n",
       "New York         52801\n",
       "Nevada           50040\n",
       "Illinois         43135\n",
       "Iowa             35356\n",
       "Colorado         32545\n",
       "Oregon           29742\n",
       "Washington       28663\n",
       "Utah             28175\n",
       "Florida          26505\n",
       "Wisconsin        25147\n",
       "Ohio             24883\n",
       "Texas            23674\n",
       "Missouri         21075\n",
       "Oklahoma         19811\n",
       "Connecticut      18566\n",
       "Louisiana        16580\n",
       "Massachusetts    15831\n",
       "New Mexico       14837\n",
       "New Hampshire    12264\n",
       "Name: TOTAL COST, dtype: int64"
      ]
     },
     "execution_count": 41,
     "metadata": {},
     "output_type": "execute_result"
    }
   ],
   "source": [
    "df_drop.groupby('STATE')['TOTAL COST'].sum().sort_values(ascending=False)"
   ]
  },
  {
   "cell_type": "code",
   "execution_count": 42,
   "id": "16949f51-f990-4eb1-a07d-920fea35fa23",
   "metadata": {},
   "outputs": [
    {
     "data": {
      "text/plain": [
       "Text(0, 0.5, 'Cost')"
      ]
     },
     "execution_count": 42,
     "metadata": {},
     "output_type": "execute_result"
    },
    {
     "data": {
      "image/png": "[encoded data removed]",
      "text/plain": [
       "<Figure size 640x480 with 1 Axes>"
      ]
     },
     "metadata": {},
     "output_type": "display_data"
    }
   ],
   "source": [
    "ax = df_drop.groupby('STATE')['TOTAL COST'].sum().sort_values(ascending=False) \\\n",
    "        .plot(kind= 'bar', title= 'Total Cost per State')\n",
    "ax.set_ylabel('Cost')"
   ]
  },
  {
   "cell_type": "markdown",
   "id": "9021e3af-60e3-4366-88c5-ceb32bfc9985",
   "metadata": {},
   "source": [
    "### -Total Cost per Product for each State"
   ]
  },
  {
   "cell_type": "code",
   "execution_count": 43,
   "id": "6252d94a-d11f-4b39-a4bf-a5882553003d",
   "metadata": {},
   "outputs": [
    {
     "data": {
      "text/plain": [
       "STATE       PRODUCT          \n",
       "California  Amaretto              4456\n",
       "            Caffe Latte           8058\n",
       "            Caffe Mocha           6770\n",
       "            Chamomile             3444\n",
       "            Columbian            10844\n",
       "                                 ...  \n",
       "Wisconsin   Darjeeling            1993\n",
       "            Decaf Espresso        1516\n",
       "            Decaf Irish Cream     3353\n",
       "            Earl Grey             3396\n",
       "            Lemon                 1733\n",
       "Name: TOTAL COST, Length: 177, dtype: int64"
      ]
     },
     "execution_count": 43,
     "metadata": {},
     "output_type": "execute_result"
    }
   ],
   "source": [
    "df_drop.groupby(['STATE','PRODUCT'])['TOTAL COST'].sum()"
   ]
  },
  {
   "cell_type": "markdown",
   "id": "b8fdba92-b089-45c4-b32e-4848bc48e305",
   "metadata": {},
   "source": [
    "### -Total Cost per Product"
   ]
  },
  {
   "cell_type": "code",
   "execution_count": 44,
   "id": "8a753b9b-22f2-4701-8fc0-654bd9fd0960",
   "metadata": {},
   "outputs": [
    {
     "data": {
      "text/plain": [
       "PRODUCT\n",
       "Columbian            79769\n",
       "Lemon                69240\n",
       "Caffe Mocha          68357\n",
       "Decaf Espresso       52236\n",
       "Chamomile            51550\n",
       "Decaf Irish Cream    49323\n",
       "Darjeeling           47731\n",
       "Earl Grey            45470\n",
       "Green Tea            32185\n",
       "Mint                 29834\n",
       "Caffe Latte          25743\n",
       "Amaretto             21629\n",
       "Regular Espresso     15267\n",
       "Name: TOTAL COST, dtype: int64"
      ]
     },
     "execution_count": 44,
     "metadata": {},
     "output_type": "execute_result"
    }
   ],
   "source": [
    "df_drop.groupby('PRODUCT')['TOTAL COST'].sum().sort_values(ascending=False)"
   ]
  },
  {
   "cell_type": "markdown",
   "id": "f794c8fb-05b9-4e00-b4bc-7b275dcad0cf",
   "metadata": {},
   "source": [
    "### -Total Cost per Product Type"
   ]
  },
  {
   "cell_type": "code",
   "execution_count": 45,
   "id": "c338f8f3-c2ac-4db6-a39e-aa41054dfd60",
   "metadata": {},
   "outputs": [
    {
     "data": {
      "text/plain": [
       "PRODUCT TYPE\n",
       "Espresso      161603\n",
       "Coffee        150721\n",
       "Herbal Tea    150624\n",
       "Tea           125386\n",
       "Name: TOTAL COST, dtype: int64"
      ]
     },
     "execution_count": 45,
     "metadata": {},
     "output_type": "execute_result"
    }
   ],
   "source": [
    "df_drop.groupby('PRODUCT TYPE')['TOTAL COST'].sum().sort_values(ascending=False)"
   ]
  },
  {
   "cell_type": "markdown",
   "id": "ebf418a2-5830-4cf5-875b-ba074138f748",
   "metadata": {},
   "source": [
    "#\n",
    "#\n",
    "#\n",
    "# Percentages\n",
    "#"
   ]
  },
  {
   "cell_type": "markdown",
   "id": "e8a633a6-42fe-4a66-8cf3-348e00e0e72d",
   "metadata": {},
   "source": [
    "### Profit percentage per State"
   ]
  },
  {
   "cell_type": "code",
   "execution_count": 46,
   "id": "2fa2de43-babc-41aa-954e-fcf4866512bf",
   "metadata": {},
   "outputs": [],
   "source": [
    "State_Pct = df_drop.groupby('STATE')['PROFIT'].sum().sort_values(ascending=False) / Profit *100"
   ]
  },
  {
   "cell_type": "code",
   "execution_count": 47,
   "id": "11a76d48-cc09-4b2e-9226-d238478031bc",
   "metadata": {},
   "outputs": [
    {
     "data": {
      "text/plain": [
       "STATE\n",
       "California       12.246526\n",
       "Illinois         11.875104\n",
       "Iowa              8.558119\n",
       "New York          7.742840\n",
       "Colorado          6.836247\n",
       "Massachusetts     6.334981\n",
       "Texas             6.074523\n",
       "Oregon            4.792655\n",
       "Florida           4.742952\n",
       "Washington        4.394262\n",
       "Ohio              4.150757\n",
       "Nevada            4.090266\n",
       "Wisconsin         3.352816\n",
       "Oklahoma          3.297334\n",
       "Utah              2.986403\n",
       "Connecticut       2.936315\n",
       "Louisiana         2.833827\n",
       "Missouri          1.387439\n",
       "New Hampshire     1.058784\n",
       "New Mexico        0.307849\n",
       "Name: PROFIT, dtype: float64"
      ]
     },
     "execution_count": 47,
     "metadata": {},
     "output_type": "execute_result"
    }
   ],
   "source": [
    "State_Pct"
   ]
  },
  {
   "cell_type": "markdown",
   "id": "c1a1c7b8-bae1-4d0c-ac04-f01365d629c5",
   "metadata": {},
   "source": [
    "### -Profit percentage for all Products"
   ]
  },
  {
   "cell_type": "code",
   "execution_count": 48,
   "id": "f51db142-dd55-4e70-af11-2738a9a93ce8",
   "metadata": {},
   "outputs": [
    {
     "data": {
      "text/plain": [
       "PRODUCT\n",
       "Columbian            21.500869\n",
       "Lemon                11.508305\n",
       "Decaf Espresso       11.366903\n",
       "Darjeeling           11.193906\n",
       "Chamomile            10.491903\n",
       "Earl Grey             9.310211\n",
       "Caffe Mocha           6.811203\n",
       "Decaf Irish Cream     5.389858\n",
       "Caffe Latte           4.382703\n",
       "Regular Espresso      3.877970\n",
       "Mint                  2.371091\n",
       "Amaretto              1.884081\n",
       "Green Tea             0.089003\n",
       "Name: PROFIT, dtype: float64"
      ]
     },
     "execution_count": 48,
     "metadata": {},
     "output_type": "execute_result"
    }
   ],
   "source": [
    "abs(df_drop.groupby('PRODUCT')['PROFIT'].sum().sort_values(ascending=False) / Profit *100)"
   ]
  },
  {
   "cell_type": "code",
   "execution_count": 49,
   "id": "1fe0f4b2-b41f-4704-9d28-574f72b8ccd4",
   "metadata": {},
   "outputs": [],
   "source": [
    "product_pct = abs(df_drop.groupby('PRODUCT')['PROFIT'].sum().sort_values(ascending=False) / Profit *100)"
   ]
  },
  {
   "cell_type": "code",
   "execution_count": 50,
   "id": "176721d5-36be-461a-9303-a8e965da0946",
   "metadata": {},
   "outputs": [
    {
     "data": {
      "text/plain": [
       "<AxesSubplot:xlabel='PRODUCT'>"
      ]
     },
     "execution_count": 50,
     "metadata": {},
     "output_type": "execute_result"
    },
    {
     "data": {
      "image/png": "[encoded data removed]",
      "text/plain": [
       "<Figure size 640x480 with 1 Axes>"
      ]
     },
     "metadata": {},
     "output_type": "display_data"
    }
   ],
   "source": [
    "product_pct.plot(kind = 'bar')"
   ]
  },
  {
   "cell_type": "markdown",
   "id": "1a34940a-bcca-4bbb-8657-cc862795c4ab",
   "metadata": {},
   "source": [
    "### -Profit percentage per product type"
   ]
  },
  {
   "cell_type": "code",
   "execution_count": 51,
   "id": "7c48f0b3-0133-49e4-ac85-4560aee012ce",
   "metadata": {},
   "outputs": [
    {
     "data": {
      "text/plain": [
       "PRODUCT TYPE\n",
       "Coffee        28.774808\n",
       "Espresso      26.438779\n",
       "Herbal Tea    24.371299\n",
       "Tea           20.415114\n",
       "Name: PROFIT, dtype: float64"
      ]
     },
     "execution_count": 51,
     "metadata": {},
     "output_type": "execute_result"
    }
   ],
   "source": [
    "df_drop.groupby('PRODUCT TYPE')['PROFIT'].sum() / Profit *100"
   ]
  },
  {
   "cell_type": "code",
   "execution_count": 52,
   "id": "95bc16e4-1892-45b4-854d-eeffe7f98405",
   "metadata": {},
   "outputs": [],
   "source": [
    "product_type_pct = df_drop.groupby('PRODUCT TYPE')['PROFIT'].sum() / Profit *100"
   ]
  },
  {
   "cell_type": "code",
   "execution_count": 53,
   "id": "e0535913-b8f7-4cf0-ad5e-ba5af08ef645",
   "metadata": {},
   "outputs": [
    {
     "data": {
      "text/plain": [
       "<AxesSubplot:ylabel='PROFIT'>"
      ]
     },
     "execution_count": 53,
     "metadata": {},
     "output_type": "execute_result"
    },
    {
     "data": {
      "image/png": "[encoded data removed]",
      "text/plain": [
       "<Figure size 640x480 with 1 Axes>"
      ]
     },
     "metadata": {},
     "output_type": "display_data"
    }
   ],
   "source": [
    "product_type_pct.plot(kind='pie')"
   ]
  },
  {
   "cell_type": "markdown",
   "id": "928dde3f-0949-4755-ac0a-13f25c6bf343",
   "metadata": {},
   "source": [
    "#\n",
    "#\n",
    "### -Total Cost percentage for each State"
   ]
  },
  {
   "cell_type": "code",
   "execution_count": 62,
   "id": "35d82b9e-d31c-4abf-9a06-361d5935ffd4",
   "metadata": {},
   "outputs": [
    {
     "data": {
      "text/plain": [
       "STATE\n",
       "California       11.677720\n",
       "New York          8.974664\n",
       "Nevada            8.505373\n",
       "Illinois          7.331720\n",
       "Iowa              6.009512\n",
       "Colorado          5.531722\n",
       "Oregon            5.055292\n",
       "Washington        4.871892\n",
       "Utah              4.788946\n",
       "Florida           4.505094\n",
       "Wisconsin         4.274273\n",
       "Ohio              4.229400\n",
       "Texas             4.023905\n",
       "Missouri          3.582149\n",
       "Oklahoma          3.367305\n",
       "Connecticut       3.155690\n",
       "Louisiana         2.818127\n",
       "Massachusetts     2.690818\n",
       "New Mexico        2.521867\n",
       "New Hampshire     2.084530\n",
       "Name: TOTAL COST, dtype: float64"
      ]
     },
     "execution_count": 62,
     "metadata": {},
     "output_type": "execute_result"
    }
   ],
   "source": [
    "df_drop.groupby('STATE')['TOTAL COST'].sum().sort_values(ascending=False) / Total_Cost *100"
   ]
  },
  {
   "cell_type": "markdown",
   "id": "fb21471e-f27c-4fbc-bd70-1c4559e63b6b",
   "metadata": {},
   "source": [
    "### -Total Cost percentage for each product"
   ]
  },
  {
   "cell_type": "code",
   "execution_count": 63,
   "id": "f3c595b1-0bc3-495f-b938-55806881a611",
   "metadata": {},
   "outputs": [
    {
     "data": {
      "text/plain": [
       "PRODUCT\n",
       "Columbian            13.558455\n",
       "Lemon                11.768825\n",
       "Caffe Mocha          11.618740\n",
       "Decaf Espresso        8.878630\n",
       "Chamomile             8.762030\n",
       "Decaf Irish Cream     8.383503\n",
       "Darjeeling            8.112909\n",
       "Earl Grey             7.728603\n",
       "Green Tea             5.470532\n",
       "Mint                  5.070929\n",
       "Caffe Latte           4.375576\n",
       "Amaretto              3.676313\n",
       "Regular Espresso      2.594955\n",
       "Name: TOTAL COST, dtype: float64"
      ]
     },
     "execution_count": 63,
     "metadata": {},
     "output_type": "execute_result"
    }
   ],
   "source": [
    "df_drop.groupby('PRODUCT')['TOTAL COST'].sum().sort_values(ascending=False) / Total_Cost *100"
   ]
  },
  {
   "cell_type": "markdown",
   "id": "119789ae-5101-45ee-8018-d1541b750e95",
   "metadata": {},
   "source": [
    "### -Total Cost percentage for each product type"
   ]
  },
  {
   "cell_type": "code",
   "execution_count": 64,
   "id": "610de9b4-6d38-4db2-8b60-637a4c889dd4",
   "metadata": {},
   "outputs": [
    {
     "data": {
      "text/plain": [
       "PRODUCT TYPE\n",
       "Espresso      27.467901\n",
       "Coffee        25.618271\n",
       "Herbal Tea    25.601784\n",
       "Tea           21.312044\n",
       "Name: TOTAL COST, dtype: float64"
      ]
     },
     "execution_count": 64,
     "metadata": {},
     "output_type": "execute_result"
    }
   ],
   "source": [
    "df_drop.groupby('PRODUCT TYPE')['TOTAL COST'].sum().sort_values(ascending=False) / Total_Cost *100"
   ]
  },
  {
   "cell_type": "markdown",
   "id": "04508f70-56f2-4e65-8a0b-788115c34fbe",
   "metadata": {},
   "source": [
    "#\n",
    "#\n",
    "#\n",
    "# Correlation\n",
    "#"
   ]
  },
  {
   "cell_type": "code",
   "execution_count": 54,
   "id": "82902790-dfdf-4c93-922e-ea0ee6535fb3",
   "metadata": {},
   "outputs": [
    {
     "data": {
      "text/plain": [
       "<AxesSubplot:xlabel='TOTAL COST', ylabel='PROFIT'>"
      ]
     },
     "execution_count": 54,
     "metadata": {},
     "output_type": "execute_result"
    },
    {
     "data": {
      "image/png": "[encoded data removed]",
      "text/plain": [
       "<Figure size 640x480 with 1 Axes>"
      ]
     },
     "metadata": {},
     "output_type": "display_data"
    }
   ],
   "source": [
    "sns.scatterplot(x='TOTAL COST', y='PROFIT', data= df_drop, hue='PRODUCT TYPE')"
   ]
  },
  {
   "cell_type": "code",
   "execution_count": 201,
   "id": "5033fca3-d2c6-407c-8ff8-28d78c169957",
   "metadata": {},
   "outputs": [
    {
     "data": {
      "text/plain": [
       "<AxesSubplot:>"
      ]
     },
     "execution_count": 201,
     "metadata": {},
     "output_type": "execute_result"
    },
    {
     "data": {
      "image/png": "[encoded data removed]",
      "text/plain": [
       "<Figure size 640x480 with 2 Axes>"
      ]
     },
     "metadata": {},
     "output_type": "display_data"
    }
   ],
   "source": [
    "df_corr = df_drop.corr()\n",
    "\n",
    "sns.heatmap(df_corr)"
   ]
  },
  {
   "cell_type": "markdown",
   "id": "9f31fb0d-c365-4eeb-ba17-ab9062afc32c",
   "metadata": {},
   "source": [
    "#\n",
    "#\n",
    "# Insights\n",
    "#"
   ]
  },
  {
   "cell_type": "raw",
   "id": "d36dbfdd-7243-4fc6-ba56-2ef047594726",
   "metadata": {},
   "source": [
    "-There were $819,811 total sales for all markets combined in 2010 and 2011.\n",
    "-Of those sales California, New York and Illinois were top three in sales per state.\n",
    "-As for products, Colombian, Lemon, and Coffee Mocha were top three in sales.\n",
    "-With Espresso product types having the highest amount of sales.\n",
    "\n",
    "\n",
    "\n",
    "-There was a total cost of $588,334 for all markets in combined years 2010 and 2011.\n",
    "-With California(11.6%), New York(8.97%), and Nevada(8.5%) being in the top three for total cost.\n",
    "-Colombian(13.6%), Lemon(11.8%) and Caffee Mocha(11.6%) were the top three products having the highest total cost.\n",
    "-While Espresso lead the way having the highest total cost per product type at 27.5%.\n",
    "\n",
    "\n",
    "\n",
    "-There were $259,543 profits nationwide for 2010 and 2011 combined.\n",
    "-Of those profits California(12.2%), Illinois(11.9%), and Iowa(8.6%) were the top three, contibuting most to the profit.\n",
    "-As for products Colombian(21.5%),Lemon(11.5%), and Decaf Espresso(11.4%) were also top three for profits.\n",
    "-With coffee having the highest profit for product type at 28.8% of profits."
   ]
  }
 ],
 "metadata": {
  "kernelspec": {
   "display_name": "Python 3 (ipykernel)",
   "language": "python",
   "name": "python3"
  },
  "language_info": {
   "codemirror_mode": {
    "name": "ipython",
    "version": 3
   },
   "file_extension": ".py",
   "mimetype": "text/x-python",
   "name": "python",
   "nbconvert_exporter": "python",
   "pygments_lexer": "ipython3",
   "version": "3.9.13"
  }
 },
 "nbformat": 4,
 "nbformat_minor": 5
}
